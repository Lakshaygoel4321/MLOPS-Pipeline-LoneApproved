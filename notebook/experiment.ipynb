{
 "cells": [
  {
   "cell_type": "code",
   "execution_count": 1,
   "metadata": {},
   "outputs": [],
   "source": [
    "import pandas as pd\n",
    "import numpy as np"
   ]
  },
  {
   "cell_type": "code",
   "execution_count": 2,
   "metadata": {},
   "outputs": [
    {
     "data": {
      "text/html": [
       "<div>\n",
       "<style scoped>\n",
       "    .dataframe tbody tr th:only-of-type {\n",
       "        vertical-align: middle;\n",
       "    }\n",
       "\n",
       "    .dataframe tbody tr th {\n",
       "        vertical-align: top;\n",
       "    }\n",
       "\n",
       "    .dataframe thead th {\n",
       "        text-align: right;\n",
       "    }\n",
       "</style>\n",
       "<table border=\"1\" class=\"dataframe\">\n",
       "  <thead>\n",
       "    <tr style=\"text-align: right;\">\n",
       "      <th></th>\n",
       "      <th>Loan_ID</th>\n",
       "      <th>Gender</th>\n",
       "      <th>Married</th>\n",
       "      <th>Dependents</th>\n",
       "      <th>Education</th>\n",
       "      <th>Self_Employed</th>\n",
       "      <th>ApplicantIncome</th>\n",
       "      <th>CoapplicantIncome</th>\n",
       "      <th>LoanAmount</th>\n",
       "      <th>Loan_Amount_Term</th>\n",
       "      <th>Credit_History</th>\n",
       "      <th>Property_Area</th>\n",
       "      <th>Loan_Status</th>\n",
       "    </tr>\n",
       "  </thead>\n",
       "  <tbody>\n",
       "    <tr>\n",
       "      <th>0</th>\n",
       "      <td>LP001003</td>\n",
       "      <td>Male</td>\n",
       "      <td>Yes</td>\n",
       "      <td>1</td>\n",
       "      <td>Graduate</td>\n",
       "      <td>No</td>\n",
       "      <td>4583</td>\n",
       "      <td>1508.0</td>\n",
       "      <td>128.0</td>\n",
       "      <td>360.0</td>\n",
       "      <td>1.0</td>\n",
       "      <td>Rural</td>\n",
       "      <td>N</td>\n",
       "    </tr>\n",
       "    <tr>\n",
       "      <th>1</th>\n",
       "      <td>LP001005</td>\n",
       "      <td>Male</td>\n",
       "      <td>Yes</td>\n",
       "      <td>0</td>\n",
       "      <td>Graduate</td>\n",
       "      <td>Yes</td>\n",
       "      <td>3000</td>\n",
       "      <td>0.0</td>\n",
       "      <td>66.0</td>\n",
       "      <td>360.0</td>\n",
       "      <td>1.0</td>\n",
       "      <td>Urban</td>\n",
       "      <td>Y</td>\n",
       "    </tr>\n",
       "    <tr>\n",
       "      <th>2</th>\n",
       "      <td>LP001006</td>\n",
       "      <td>Male</td>\n",
       "      <td>Yes</td>\n",
       "      <td>0</td>\n",
       "      <td>Not Graduate</td>\n",
       "      <td>No</td>\n",
       "      <td>2583</td>\n",
       "      <td>2358.0</td>\n",
       "      <td>120.0</td>\n",
       "      <td>360.0</td>\n",
       "      <td>1.0</td>\n",
       "      <td>Urban</td>\n",
       "      <td>Y</td>\n",
       "    </tr>\n",
       "    <tr>\n",
       "      <th>3</th>\n",
       "      <td>LP001008</td>\n",
       "      <td>Male</td>\n",
       "      <td>No</td>\n",
       "      <td>0</td>\n",
       "      <td>Graduate</td>\n",
       "      <td>No</td>\n",
       "      <td>6000</td>\n",
       "      <td>0.0</td>\n",
       "      <td>141.0</td>\n",
       "      <td>360.0</td>\n",
       "      <td>1.0</td>\n",
       "      <td>Urban</td>\n",
       "      <td>Y</td>\n",
       "    </tr>\n",
       "    <tr>\n",
       "      <th>4</th>\n",
       "      <td>LP001013</td>\n",
       "      <td>Male</td>\n",
       "      <td>Yes</td>\n",
       "      <td>0</td>\n",
       "      <td>Not Graduate</td>\n",
       "      <td>No</td>\n",
       "      <td>2333</td>\n",
       "      <td>1516.0</td>\n",
       "      <td>95.0</td>\n",
       "      <td>360.0</td>\n",
       "      <td>1.0</td>\n",
       "      <td>Urban</td>\n",
       "      <td>Y</td>\n",
       "    </tr>\n",
       "  </tbody>\n",
       "</table>\n",
       "</div>"
      ],
      "text/plain": [
       "    Loan_ID Gender Married Dependents     Education Self_Employed  \\\n",
       "0  LP001003   Male     Yes          1      Graduate            No   \n",
       "1  LP001005   Male     Yes          0      Graduate           Yes   \n",
       "2  LP001006   Male     Yes          0  Not Graduate            No   \n",
       "3  LP001008   Male      No          0      Graduate            No   \n",
       "4  LP001013   Male     Yes          0  Not Graduate            No   \n",
       "\n",
       "   ApplicantIncome  CoapplicantIncome  LoanAmount  Loan_Amount_Term  \\\n",
       "0             4583             1508.0       128.0             360.0   \n",
       "1             3000                0.0        66.0             360.0   \n",
       "2             2583             2358.0       120.0             360.0   \n",
       "3             6000                0.0       141.0             360.0   \n",
       "4             2333             1516.0        95.0             360.0   \n",
       "\n",
       "   Credit_History Property_Area Loan_Status  \n",
       "0             1.0         Rural           N  \n",
       "1             1.0         Urban           Y  \n",
       "2             1.0         Urban           Y  \n",
       "3             1.0         Urban           Y  \n",
       "4             1.0         Urban           Y  "
      ]
     },
     "execution_count": 2,
     "metadata": {},
     "output_type": "execute_result"
    }
   ],
   "source": [
    "df = pd.read_csv('loan_data.csv')\n",
    "df.head()"
   ]
  },
  {
   "cell_type": "code",
   "execution_count": 3,
   "metadata": {},
   "outputs": [
    {
     "data": {
      "text/plain": [
       "Loan_ID               0\n",
       "Gender                5\n",
       "Married               0\n",
       "Dependents            8\n",
       "Education             0\n",
       "Self_Employed        21\n",
       "ApplicantIncome       0\n",
       "CoapplicantIncome     0\n",
       "LoanAmount            0\n",
       "Loan_Amount_Term     11\n",
       "Credit_History       30\n",
       "Property_Area         0\n",
       "Loan_Status           0\n",
       "dtype: int64"
      ]
     },
     "execution_count": 3,
     "metadata": {},
     "output_type": "execute_result"
    }
   ],
   "source": [
    "df.isnull().sum()"
   ]
  },
  {
   "cell_type": "code",
   "execution_count": 4,
   "metadata": {},
   "outputs": [
    {
     "name": "stdout",
     "output_type": "stream",
     "text": [
      "<class 'pandas.core.frame.DataFrame'>\n",
      "RangeIndex: 381 entries, 0 to 380\n",
      "Data columns (total 13 columns):\n",
      " #   Column             Non-Null Count  Dtype  \n",
      "---  ------             --------------  -----  \n",
      " 0   Loan_ID            381 non-null    object \n",
      " 1   Gender             376 non-null    object \n",
      " 2   Married            381 non-null    object \n",
      " 3   Dependents         373 non-null    object \n",
      " 4   Education          381 non-null    object \n",
      " 5   Self_Employed      360 non-null    object \n",
      " 6   ApplicantIncome    381 non-null    int64  \n",
      " 7   CoapplicantIncome  381 non-null    float64\n",
      " 8   LoanAmount         381 non-null    float64\n",
      " 9   Loan_Amount_Term   370 non-null    float64\n",
      " 10  Credit_History     351 non-null    float64\n",
      " 11  Property_Area      381 non-null    object \n",
      " 12  Loan_Status        381 non-null    object \n",
      "dtypes: float64(4), int64(1), object(8)\n",
      "memory usage: 38.8+ KB\n"
     ]
    }
   ],
   "source": [
    "\n",
    "df.info()"
   ]
  },
  {
   "cell_type": "code",
   "execution_count": 5,
   "metadata": {},
   "outputs": [
    {
     "data": {
      "text/plain": [
       "array(['Male', 'Female', nan], dtype=object)"
      ]
     },
     "execution_count": 5,
     "metadata": {},
     "output_type": "execute_result"
    }
   ],
   "source": [
    "df['Gender'].unique()"
   ]
  },
  {
   "cell_type": "code",
   "execution_count": 6,
   "metadata": {},
   "outputs": [
    {
     "data": {
      "text/plain": [
       "array(['Yes', 'No'], dtype=object)"
      ]
     },
     "execution_count": 6,
     "metadata": {},
     "output_type": "execute_result"
    }
   ],
   "source": [
    "\n",
    "df['Married'].unique()"
   ]
  },
  {
   "cell_type": "code",
   "execution_count": 7,
   "metadata": {},
   "outputs": [
    {
     "data": {
      "text/plain": [
       "array(['1', '0', '2', '3+', nan], dtype=object)"
      ]
     },
     "execution_count": 7,
     "metadata": {},
     "output_type": "execute_result"
    }
   ],
   "source": [
    "df['Dependents'].unique()"
   ]
  },
  {
   "cell_type": "code",
   "execution_count": 8,
   "metadata": {},
   "outputs": [
    {
     "data": {
      "text/plain": [
       "array(['Graduate', 'Not Graduate'], dtype=object)"
      ]
     },
     "execution_count": 8,
     "metadata": {},
     "output_type": "execute_result"
    }
   ],
   "source": [
    "df['Education'].unique()"
   ]
  },
  {
   "cell_type": "code",
   "execution_count": 9,
   "metadata": {},
   "outputs": [
    {
     "data": {
      "text/plain": [
       "array(['No', 'Yes', nan], dtype=object)"
      ]
     },
     "execution_count": 9,
     "metadata": {},
     "output_type": "execute_result"
    }
   ],
   "source": [
    "df['Self_Employed'].unique()"
   ]
  },
  {
   "cell_type": "code",
   "execution_count": 10,
   "metadata": {},
   "outputs": [
    {
     "data": {
      "text/plain": [
       "array([4583, 3000, 2583, 6000, 2333, 3200, 2500, 1853, 1299, 4950, 3596,\n",
       "       3510, 4887, 2600, 7660, 3365, 2799, 4226, 1442, 3750, 3167, 4692,\n",
       "       3500, 1828, 3667, 3748, 3600, 1800, 2400, 3941, 4695, 3410, 5649,\n",
       "       5821, 2645, 4000, 1928, 3086, 4230, 4616, 2708, 2132, 3366, 3357,\n",
       "       3029, 4166, 7100, 4300, 1875, 4755, 1000, 3333, 3846, 3988, 2366,\n",
       "       2958, 3273, 4133, 3620, 2484, 1977, 4188, 1759, 4288, 3052, 7333,\n",
       "       2071, 5316, 2929, 5050, 2214, 2137, 2957, 3692, 2014, 2718, 3459,\n",
       "       4895, 3316, 4200, 2698, 2330, 1538, 4860, 6277, 2281, 3254, 2980,\n",
       "       1863, 3089, 9323, 2439, 2237, 1820, 3522, 4344, 3497, 2045, 1916,\n",
       "       4600, 3625, 2178, 2383, 4885, 3858, 4191, 1907, 3416, 3917, 4408,\n",
       "       3244, 3975, 2479, 3418, 3430, 5703, 3173, 3850,  150, 3727, 5000,\n",
       "       4283, 2221, 4009, 2971, 6250, 4735, 2491, 3716, 3189, 3155, 3463,\n",
       "       3812, 3315, 5819, 2510, 3406, 6050, 9703, 6608, 2882, 1809, 3427,\n",
       "       6045, 5250, 4931, 2060, 7200, 5166, 4708, 2876, 3237, 2833, 2620,\n",
       "       3900, 2750, 3103, 4100, 3927, 2301, 1811, 3158, 3704, 4124, 3075,\n",
       "       4400, 3153, 5417, 4416, 4666, 2875, 1625, 3762, 2917, 2927, 2507,\n",
       "       5746, 3399, 3717, 2058, 3541, 4342, 3166, 4917, 4333, 4384, 2935,\n",
       "       5503, 4160, 2378, 3083, 2666, 5500, 2423, 3813, 3875, 4723, 4750,\n",
       "       3013, 6822, 6216, 5124, 3062, 2764, 4817, 8750, 4310, 3069, 5391,\n",
       "       7167, 4566, 2346, 5488, 1993, 3100, 3276, 3180, 3033, 3902, 1500,\n",
       "       2889, 2755, 1963, 4547, 2167, 2213, 3867, 2253, 2995, 1025, 3246,\n",
       "       5829, 2720, 7250, 4606, 5935, 2920, 2717, 8624, 6500, 2425, 1926,\n",
       "       7142, 4707, 3466, 4652, 3539, 3340, 2309, 1958, 3948, 2483, 7085,\n",
       "       3859, 4301, 4354, 7740, 5191, 2947,  210, 2653, 4691, 2873, 3095,\n",
       "       2083, 3547, 2435, 2699, 3691, 3597, 3326, 4625, 2895,  645, 3159,\n",
       "       4050, 3814, 3583, 3598, 3283, 2130, 2031, 3074, 3400, 2192, 5677,\n",
       "       3775, 2679, 6783, 4281, 3588, 2550, 3617, 4608, 2138, 3652, 2239,\n",
       "       3017, 3358, 2526, 2785, 3593, 5468, 2667, 3675, 5800, 4467, 6406,\n",
       "       3087, 3229, 1782, 1836, 1880, 2787, 2297, 2165, 2726, 3833, 2987,\n",
       "       3232, 2900, 4106], dtype=int64)"
      ]
     },
     "execution_count": 10,
     "metadata": {},
     "output_type": "execute_result"
    }
   ],
   "source": [
    "df['ApplicantIncome'].unique()"
   ]
  },
  {
   "cell_type": "code",
   "execution_count": 11,
   "metadata": {},
   "outputs": [
    {
     "data": {
      "text/plain": [
       "array([1.50800000e+03, 0.00000000e+00, 2.35800000e+03, 1.51600000e+03,\n",
       "       7.00000000e+02, 1.84000000e+03, 2.84000000e+03, 1.08600000e+03,\n",
       "       3.50000000e+03, 1.91100000e+03, 1.91700000e+03, 2.25300000e+03,\n",
       "       1.04000000e+03, 2.08300000e+03, 1.66700000e+03, 1.33000000e+03,\n",
       "       1.45900000e+03, 1.66800000e+03, 1.21300000e+03, 2.33600000e+03,\n",
       "       3.44000000e+03, 2.27500000e+03, 1.64400000e+03, 1.16700000e+03,\n",
       "       1.59100000e+03, 2.20000000e+03, 2.85900000e+03, 3.79600000e+03,\n",
       "       2.25400000e+03, 1.87500000e+03, 3.02200000e+03, 2.16600000e+03,\n",
       "       2.53100000e+03, 2.00000000e+03, 2.11800000e+03, 2.90000000e+03,\n",
       "       1.82000000e+03, 2.30200000e+03, 9.97000000e+02, 3.54100000e+03,\n",
       "       3.26300000e+03, 1.03000000e+03, 7.54000000e+02, 2.33300000e+03,\n",
       "       1.39800000e+03, 8.98000000e+03, 1.92900000e+03, 1.43000000e+03,\n",
       "       2.03400000e+03, 4.48600000e+03, 1.42500000e+03, 8.30000000e+02,\n",
       "       1.04100000e+03, 1.28000000e+03, 3.33300000e+03, 1.76900000e+03,\n",
       "       7.36000000e+02, 1.96400000e+03, 1.61900000e+03, 1.45100000e+03,\n",
       "       5.06300000e+03, 2.13800000e+03, 2.36500000e+03, 2.81600000e+03,\n",
       "       2.50000000e+03, 1.08300000e+03, 1.25000000e+03, 3.02100000e+03,\n",
       "       9.83000000e+02, 1.80000000e+03, 1.77500000e+03, 2.38300000e+03,\n",
       "       1.71700000e+03, 2.79100000e+03, 2.05400000e+03, 2.59800000e+03,\n",
       "       1.77900000e+03, 5.00000000e+03, 1.98300000e+03, 1.30000000e+03,\n",
       "       4.41700000e+03, 4.33300000e+03, 1.84300000e+03, 1.86800000e+03,\n",
       "       2.16700000e+03, 2.20900000e+03, 1.38700000e+03, 1.56000000e+03,\n",
       "       1.85700000e+03, 2.22300000e+03, 1.84200000e+03, 8.00000000e+02,\n",
       "       9.85799988e+02, 1.66600000e+03, 3.05300000e+03, 2.41600000e+03,\n",
       "       2.92500000e+03, 2.93400000e+03, 1.75000000e+03, 1.80300000e+03,\n",
       "       1.86300000e+03, 2.40500000e+03, 1.64000000e+03, 2.13400000e+03,\n",
       "       1.89000000e+02, 2.98500000e+03, 2.45100000e+03, 1.79300000e+03,\n",
       "       4.49000000e+03, 2.33000000e+03, 2.16800000e+03, 5.05000000e+02,\n",
       "       3.03300000e+03, 1.98700000e+03, 9.23000000e+02, 4.99600000e+03,\n",
       "       1.60000000e+03, 2.41700000e+03, 2.11500000e+03, 1.62500000e+03,\n",
       "       1.40000000e+03, 4.84000000e+02, 2.00000000e+04, 2.40000000e+03,\n",
       "       2.03300000e+03, 2.77300000e+03, 1.41700000e+03, 1.71900000e+03,\n",
       "       4.30000000e+03, 1.61200008e+01, 2.34000000e+03, 1.85100000e+03,\n",
       "       1.99300000e+03, 1.21000000e+03, 1.37600000e+03, 1.71000000e+03,\n",
       "       1.25500000e+03, 1.45600000e+03, 1.73300000e+03, 2.46600000e+03,\n",
       "       1.66400000e+03, 2.91700000e+03, 1.50000000e+03, 1.87200000e+03,\n",
       "       3.15000000e+03, 2.43600000e+03, 2.78500000e+03, 2.15700000e+03,\n",
       "       9.13000000e+02, 1.70000000e+03, 2.85700000e+03, 3.68300000e+03,\n",
       "       5.30200000e+03, 1.48300000e+03, 1.28700000e+03, 2.03500000e+03,\n",
       "       6.66600000e+03, 3.42800000e+03, 1.63200000e+03, 1.74200000e+03,\n",
       "       1.42400000e+03, 1.30200000e+03, 2.04200000e+03, 5.36000000e+02,\n",
       "       2.84500000e+03, 2.52400000e+03, 6.63000000e+02, 1.78300000e+03,\n",
       "       2.01600000e+03, 4.26600000e+03, 1.03200000e+03, 2.42000000e+02,\n",
       "       2.06400000e+03, 4.61000000e+02, 2.21000000e+03, 2.73900000e+03,\n",
       "       2.23200000e+03, 3.38370000e+04, 1.52200000e+03, 3.41600000e+03,\n",
       "       3.30000000e+03, 1.95000000e+03])"
      ]
     },
     "execution_count": 11,
     "metadata": {},
     "output_type": "execute_result"
    }
   ],
   "source": [
    "df['CoapplicantIncome'].unique()"
   ]
  },
  {
   "cell_type": "code",
   "execution_count": 12,
   "metadata": {},
   "outputs": [
    {
     "data": {
      "text/plain": [
       "array([128.,  66., 120., 141.,  95.,  70., 109., 114.,  17., 125., 100.,\n",
       "        76., 133., 115., 104., 116., 112., 122., 110.,  35.,  74., 106.,\n",
       "       144.,  80.,  47.,  75., 134.,  96.,  88.,  44.,  97., 135.,  99.,\n",
       "       126., 136.,  81., 113., 130., 111.,  50., 131.,  25., 137.,  94.,\n",
       "       139., 118.,  85.,  93., 102.,  84., 129.,  30.,  98., 121.,  63.,\n",
       "        87., 101.,  67.,  73., 108.,  58.,  48.,  90., 124.,  55.,  59.,\n",
       "       127.,  72.,  60., 138.,  42., 140., 123., 150.,  78.,  54.,  89.,\n",
       "       143., 105., 132.,  56., 117.,  71.,  46., 103.,  45.,  65.,  53.,\n",
       "        62., 148., 149., 119., 107., 145.,  26.,   9.,  36.,  61., 146.,\n",
       "       142.,  40.])"
      ]
     },
     "execution_count": 12,
     "metadata": {},
     "output_type": "execute_result"
    }
   ],
   "source": [
    "df['LoanAmount'].unique()"
   ]
  },
  {
   "cell_type": "code",
   "execution_count": 13,
   "metadata": {},
   "outputs": [
    {
     "data": {
      "text/plain": [
       "array([ 1., nan,  0.])"
      ]
     },
     "execution_count": 13,
     "metadata": {},
     "output_type": "execute_result"
    }
   ],
   "source": [
    "df['Credit_History'].unique()"
   ]
  },
  {
   "cell_type": "code",
   "execution_count": 14,
   "metadata": {},
   "outputs": [
    {
     "data": {
      "text/plain": [
       "array(['Rural', 'Urban', 'Semiurban'], dtype=object)"
      ]
     },
     "execution_count": 14,
     "metadata": {},
     "output_type": "execute_result"
    }
   ],
   "source": [
    "df['Property_Area'].unique()"
   ]
  },
  {
   "cell_type": "code",
   "execution_count": null,
   "metadata": {},
   "outputs": [],
   "source": []
  },
  {
   "cell_type": "code",
   "execution_count": null,
   "metadata": {},
   "outputs": [],
   "source": []
  },
  {
   "cell_type": "code",
   "execution_count": null,
   "metadata": {},
   "outputs": [],
   "source": []
  }
 ],
 "metadata": {
  "kernelspec": {
   "display_name": "venv",
   "language": "python",
   "name": "python3"
  },
  "language_info": {
   "codemirror_mode": {
    "name": "ipython",
    "version": 3
   },
   "file_extension": ".py",
   "mimetype": "text/x-python",
   "name": "python",
   "nbconvert_exporter": "python",
   "pygments_lexer": "ipython3",
   "version": "3.10.0"
  }
 },
 "nbformat": 4,
 "nbformat_minor": 2
}
